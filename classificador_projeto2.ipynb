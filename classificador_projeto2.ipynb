{
 "cells": [
  {
   "cell_type": "markdown",
   "metadata": {},
   "outputs": [],
   "source": [
    "# Projeto #2 - Classificador supervisionado\n",
    "\n",
    "Antes de começar, leia as [Instruções](https://github.com/thvmm/pos-ds-ia/tree/master/projeto_2#instru%C3%A7%C3%B5es) e os [Critérios de Avaliação](https://github.com/thvmm/pos-ds-ia/tree/master/projeto_2#crit%C3%A9rios-de-avalia%C3%A7%C3%A3o)\n"
   ]
  },
  {
   "cell_type": "markdown",
   "metadata": {},
   "outputs": [],
   "source": [
    "### 1) Qual a base escolhida?\n",
    "\n"
   ]
  },
  {
   "cell_type": "code",
   "execution_count": 77,
   "metadata": {},
   "outputs": [
    {
     "data": {
      "text/html": "<div>\n<style scoped>\n    .dataframe tbody tr th:only-of-type {\n        vertical-align: middle;\n    }\n\n    .dataframe tbody tr th {\n        vertical-align: top;\n    }\n\n    .dataframe thead th {\n        text-align: right;\n    }\n</style>\n<table border=\"1\" class=\"dataframe\">\n  <thead>\n    <tr style=\"text-align: right;\">\n      <th></th>\n      <th>Elevation</th>\n      <th>Aspect</th>\n      <th>slope</th>\n      <th>Horizontal_Distance_To_Hydrology</th>\n      <th>Vertical_Distance_To_Hydrology</th>\n      <th>Horizontal_Distance_To_Roadways</th>\n      <th>Hillshade_9am</th>\n      <th>Hillshade_Noon</th>\n      <th>Hillshade_3pm</th>\n      <th>Horizontal_Distance_To_Fire_Points</th>\n      <th>Wilderness_Area_1</th>\n      <th>Wilderness_Area_2</th>\n      <th>Wilderness_Area_3</th>\n      <th>Wilderness_Area_4</th>\n      <th>Soil_Type_1</th>\n      <th>Soil_Type_2</th>\n      <th>Soil_Type_3</th>\n      <th>Soil_Type_4</th>\n      <th>Soil_Type_5</th>\n      <th>Soil_Type_6</th>\n      <th>Soil_Type_7</th>\n      <th>Soil_Type_8</th>\n      <th>Soil_Type_9</th>\n      <th>Soil_Type_10</th>\n      <th>Soil_Type_11</th>\n      <th>Soil_Type_12</th>\n      <th>Soil_Type_13</th>\n      <th>Soil_Type_14</th>\n      <th>Soil_Type_15</th>\n      <th>Soil_Type_16</th>\n      <th>Soil_Type_17</th>\n      <th>Soil_Type_18</th>\n      <th>Soil_Type_1.1</th>\n      <th>Soil_Type_20</th>\n      <th>Soil_Type_21</th>\n      <th>Soil_Type_22</th>\n      <th>Soil_Type_23</th>\n      <th>Soil_Type_24</th>\n      <th>Soil_Type_25</th>\n      <th>Soil_Type_26</th>\n      <th>Soil_Type_27</th>\n      <th>Soil_Type_28</th>\n      <th>Soil_Type_29</th>\n      <th>Soil_Type_30</th>\n      <th>Soil_Type_31</th>\n      <th>Soil_Type_32</th>\n      <th>Soil_Type_33</th>\n      <th>Soil_Type_34</th>\n      <th>Soil_Type_35</th>\n      <th>Soil_Type_36</th>\n      <th>Soil_Type_37</th>\n      <th>Soil_Type_38</th>\n      <th>Soil_Type_39</th>\n      <th>Soil_Type_40</th>\n      <th>Cover_Type</th>\n    </tr>\n  </thead>\n  <tbody>\n    <tr>\n      <th>0</th>\n      <td>2596</td>\n      <td>51</td>\n      <td>3</td>\n      <td>258</td>\n      <td>0</td>\n      <td>510</td>\n      <td>221</td>\n      <td>232</td>\n      <td>148</td>\n      <td>6279</td>\n      <td>1</td>\n      <td>0</td>\n      <td>0</td>\n      <td>0</td>\n      <td>0</td>\n      <td>0</td>\n      <td>0</td>\n      <td>0</td>\n      <td>0</td>\n      <td>0</td>\n      <td>0</td>\n      <td>0</td>\n      <td>0</td>\n      <td>0</td>\n      <td>0</td>\n      <td>0</td>\n      <td>0</td>\n      <td>0</td>\n      <td>0</td>\n      <td>0</td>\n      <td>0</td>\n      <td>0</td>\n      <td>0</td>\n      <td>0</td>\n      <td>0</td>\n      <td>0</td>\n      <td>0</td>\n      <td>0</td>\n      <td>0</td>\n      <td>0</td>\n      <td>0</td>\n      <td>0</td>\n      <td>1</td>\n      <td>0</td>\n      <td>0</td>\n      <td>0</td>\n      <td>0</td>\n      <td>0</td>\n      <td>0</td>\n      <td>0</td>\n      <td>0</td>\n      <td>0</td>\n      <td>0</td>\n      <td>0</td>\n      <td>5</td>\n    </tr>\n    <tr>\n      <th>1</th>\n      <td>2590</td>\n      <td>56</td>\n      <td>2</td>\n      <td>212</td>\n      <td>-6</td>\n      <td>390</td>\n      <td>220</td>\n      <td>235</td>\n      <td>151</td>\n      <td>6225</td>\n      <td>1</td>\n      <td>0</td>\n      <td>0</td>\n      <td>0</td>\n      <td>0</td>\n      <td>0</td>\n      <td>0</td>\n      <td>0</td>\n      <td>0</td>\n      <td>0</td>\n      <td>0</td>\n      <td>0</td>\n      <td>0</td>\n      <td>0</td>\n      <td>0</td>\n      <td>0</td>\n      <td>0</td>\n      <td>0</td>\n      <td>0</td>\n      <td>0</td>\n      <td>0</td>\n      <td>0</td>\n      <td>0</td>\n      <td>0</td>\n      <td>0</td>\n      <td>0</td>\n      <td>0</td>\n      <td>0</td>\n      <td>0</td>\n      <td>0</td>\n      <td>0</td>\n      <td>0</td>\n      <td>1</td>\n      <td>0</td>\n      <td>0</td>\n      <td>0</td>\n      <td>0</td>\n      <td>0</td>\n      <td>0</td>\n      <td>0</td>\n      <td>0</td>\n      <td>0</td>\n      <td>0</td>\n      <td>0</td>\n      <td>5</td>\n    </tr>\n    <tr>\n      <th>2</th>\n      <td>2804</td>\n      <td>139</td>\n      <td>9</td>\n      <td>268</td>\n      <td>65</td>\n      <td>3180</td>\n      <td>234</td>\n      <td>238</td>\n      <td>135</td>\n      <td>6121</td>\n      <td>1</td>\n      <td>0</td>\n      <td>0</td>\n      <td>0</td>\n      <td>0</td>\n      <td>0</td>\n      <td>0</td>\n      <td>0</td>\n      <td>0</td>\n      <td>0</td>\n      <td>0</td>\n      <td>0</td>\n      <td>0</td>\n      <td>0</td>\n      <td>0</td>\n      <td>1</td>\n      <td>0</td>\n      <td>0</td>\n      <td>0</td>\n      <td>0</td>\n      <td>0</td>\n      <td>0</td>\n      <td>0</td>\n      <td>0</td>\n      <td>0</td>\n      <td>0</td>\n      <td>0</td>\n      <td>0</td>\n      <td>0</td>\n      <td>0</td>\n      <td>0</td>\n      <td>0</td>\n      <td>0</td>\n      <td>0</td>\n      <td>0</td>\n      <td>0</td>\n      <td>0</td>\n      <td>0</td>\n      <td>0</td>\n      <td>0</td>\n      <td>0</td>\n      <td>0</td>\n      <td>0</td>\n      <td>0</td>\n      <td>2</td>\n    </tr>\n    <tr>\n      <th>3</th>\n      <td>2785</td>\n      <td>155</td>\n      <td>18</td>\n      <td>242</td>\n      <td>118</td>\n      <td>3090</td>\n      <td>238</td>\n      <td>238</td>\n      <td>122</td>\n      <td>6211</td>\n      <td>1</td>\n      <td>0</td>\n      <td>0</td>\n      <td>0</td>\n      <td>0</td>\n      <td>0</td>\n      <td>0</td>\n      <td>0</td>\n      <td>0</td>\n      <td>0</td>\n      <td>0</td>\n      <td>0</td>\n      <td>0</td>\n      <td>0</td>\n      <td>0</td>\n      <td>0</td>\n      <td>0</td>\n      <td>0</td>\n      <td>0</td>\n      <td>0</td>\n      <td>0</td>\n      <td>0</td>\n      <td>0</td>\n      <td>0</td>\n      <td>0</td>\n      <td>0</td>\n      <td>0</td>\n      <td>0</td>\n      <td>0</td>\n      <td>0</td>\n      <td>0</td>\n      <td>0</td>\n      <td>0</td>\n      <td>1</td>\n      <td>0</td>\n      <td>0</td>\n      <td>0</td>\n      <td>0</td>\n      <td>0</td>\n      <td>0</td>\n      <td>0</td>\n      <td>0</td>\n      <td>0</td>\n      <td>0</td>\n      <td>2</td>\n    </tr>\n    <tr>\n      <th>4</th>\n      <td>2595</td>\n      <td>45</td>\n      <td>2</td>\n      <td>153</td>\n      <td>-1</td>\n      <td>391</td>\n      <td>220</td>\n      <td>234</td>\n      <td>150</td>\n      <td>6172</td>\n      <td>1</td>\n      <td>0</td>\n      <td>0</td>\n      <td>0</td>\n      <td>0</td>\n      <td>0</td>\n      <td>0</td>\n      <td>0</td>\n      <td>0</td>\n      <td>0</td>\n      <td>0</td>\n      <td>0</td>\n      <td>0</td>\n      <td>0</td>\n      <td>0</td>\n      <td>0</td>\n      <td>0</td>\n      <td>0</td>\n      <td>0</td>\n      <td>0</td>\n      <td>0</td>\n      <td>0</td>\n      <td>0</td>\n      <td>0</td>\n      <td>0</td>\n      <td>0</td>\n      <td>0</td>\n      <td>0</td>\n      <td>0</td>\n      <td>0</td>\n      <td>0</td>\n      <td>0</td>\n      <td>1</td>\n      <td>0</td>\n      <td>0</td>\n      <td>0</td>\n      <td>0</td>\n      <td>0</td>\n      <td>0</td>\n      <td>0</td>\n      <td>0</td>\n      <td>0</td>\n      <td>0</td>\n      <td>0</td>\n      <td>5</td>\n    </tr>\n  </tbody>\n</table>\n</div>",
      "text/plain": "   Elevation  Aspect  slope  Horizontal_Distance_To_Hydrology  \\\n0       2596      51      3                               258   \n1       2590      56      2                               212   \n2       2804     139      9                               268   \n3       2785     155     18                               242   \n4       2595      45      2                               153   \n\n   Vertical_Distance_To_Hydrology  Horizontal_Distance_To_Roadways  \\\n0                               0                              510   \n1                              -6                              390   \n2                              65                             3180   \n3                             118                             3090   \n4                              -1                              391   \n\n   Hillshade_9am  Hillshade_Noon  Hillshade_3pm  \\\n0            221             232            148   \n1            220             235            151   \n2            234             238            135   \n3            238             238            122   \n4            220             234            150   \n\n   Horizontal_Distance_To_Fire_Points  Wilderness_Area_1  Wilderness_Area_2  \\\n0                                6279                  1                  0   \n1                                6225                  1                  0   \n2                                6121                  1                  0   \n3                                6211                  1                  0   \n4                                6172                  1                  0   \n\n   Wilderness_Area_3  Wilderness_Area_4  Soil_Type_1  Soil_Type_2  \\\n0                  0                  0            0            0   \n1                  0                  0            0            0   \n2                  0                  0            0            0   \n3                  0                  0            0            0   \n4                  0                  0            0            0   \n\n   Soil_Type_3  Soil_Type_4  Soil_Type_5  Soil_Type_6  Soil_Type_7  \\\n0            0            0            0            0            0   \n1            0            0            0            0            0   \n2            0            0            0            0            0   \n3            0            0            0            0            0   \n4            0            0            0            0            0   \n\n   Soil_Type_8  Soil_Type_9  Soil_Type_10  Soil_Type_11  Soil_Type_12  \\\n0            0            0             0             0             0   \n1            0            0             0             0             0   \n2            0            0             0             0             1   \n3            0            0             0             0             0   \n4            0            0             0             0             0   \n\n   Soil_Type_13  Soil_Type_14  Soil_Type_15  Soil_Type_16  Soil_Type_17  \\\n0             0             0             0             0             0   \n1             0             0             0             0             0   \n2             0             0             0             0             0   \n3             0             0             0             0             0   \n4             0             0             0             0             0   \n\n   Soil_Type_18  Soil_Type_1.1  Soil_Type_20  Soil_Type_21  Soil_Type_22  \\\n0             0              0             0             0             0   \n1             0              0             0             0             0   \n2             0              0             0             0             0   \n3             0              0             0             0             0   \n4             0              0             0             0             0   \n\n   Soil_Type_23  Soil_Type_24  Soil_Type_25  Soil_Type_26  Soil_Type_27  \\\n0             0             0             0             0             0   \n1             0             0             0             0             0   \n2             0             0             0             0             0   \n3             0             0             0             0             0   \n4             0             0             0             0             0   \n\n   Soil_Type_28  Soil_Type_29  Soil_Type_30  Soil_Type_31  Soil_Type_32  \\\n0             0             1             0             0             0   \n1             0             1             0             0             0   \n2             0             0             0             0             0   \n3             0             0             1             0             0   \n4             0             1             0             0             0   \n\n   Soil_Type_33  Soil_Type_34  Soil_Type_35  Soil_Type_36  Soil_Type_37  \\\n0             0             0             0             0             0   \n1             0             0             0             0             0   \n2             0             0             0             0             0   \n3             0             0             0             0             0   \n4             0             0             0             0             0   \n\n   Soil_Type_38  Soil_Type_39  Soil_Type_40  Cover_Type  \n0             0             0             0           5  \n1             0             0             0           5  \n2             0             0             0           2  \n3             0             0             0           2  \n4             0             0             0           5  "
     },
     "execution_count": 77,
     "metadata": {},
     "output_type": "execute_result"
    }
   ],
   "source": [
    "import pandas as pd\n",
    "import warnings\n",
    "import numpy as np\n",
    "import seaborn as sns\n",
    "import matplotlib.pyplot as plt\n",
    "%matplotlib inline\n",
    "\n",
    "warnings.filterwarnings('ignore')\n",
    "pd.set_option('display.max_columns', 1000)\n",
    "\n",
    "#leitura do arquivo csv\n",
    "data = pd.read_csv('covtype.csv')\n",
    "data.head()\n"
   ]
  },
  {
   "cell_type": "markdown",
   "metadata": {},
   "outputs": [],
   "source": [
    "### 2) **(10%)** Pré-processamento: entendimento do conjunto de dados\n",
    "- Quais são minhas features?\n",
    "- Quais são minhas classes?\n",
    "- Como estão distribuidas minhas classes?\n",
    "- Checagem se os valores estão dentro de um limite permitido ou razoável.\n",
    "- Tratamento de valores ausentes por eliminação ou substituição.\n",
    "- Conversão do tipo de dados.\n"
   ]
  },
  {
   "cell_type": "code",
   "execution_count": 78,
   "metadata": {},
   "outputs": [
    {
     "name": "stdout",
     "output_type": "stream",
     "text": "Dados:\nNúmero de Registros: 581012\nNúmero de Featues: 55\n"
    }
   ],
   "source": [
    "print('Dados:')\n",
    "print('Número de Registros:', data.shape[0])\n",
    "print('Número de Featues:', data.shape[1])"
   ]
  },
  {
   "cell_type": "code",
   "execution_count": 79,
   "metadata": {},
   "outputs": [
    {
     "data": {
      "text/plain": "Elevation                             int64\nAspect                                int64\nslope                                 int64\nHorizontal_Distance_To_Hydrology      int64\nVertical_Distance_To_Hydrology        int64\nHorizontal_Distance_To_Roadways       int64\nHillshade_9am                         int64\nHillshade_Noon                        int64\nHillshade_3pm                         int64\nHorizontal_Distance_To_Fire_Points    int64\nWilderness_Area_1                     int64\nWilderness_Area_2                     int64\nWilderness_Area_3                     int64\nWilderness_Area_4                     int64\nSoil_Type_1                           int64\nSoil_Type_2                           int64\nSoil_Type_3                           int64\nSoil_Type_4                           int64\nSoil_Type_5                           int64\nSoil_Type_6                           int64\nSoil_Type_7                           int64\nSoil_Type_8                           int64\nSoil_Type_9                           int64\nSoil_Type_10                          int64\nSoil_Type_11                          int64\nSoil_Type_12                          int64\nSoil_Type_13                          int64\nSoil_Type_14                          int64\nSoil_Type_15                          int64\nSoil_Type_16                          int64\nSoil_Type_17                          int64\nSoil_Type_18                          int64\nSoil_Type_1.1                         int64\nSoil_Type_20                          int64\nSoil_Type_21                          int64\nSoil_Type_22                          int64\nSoil_Type_23                          int64\nSoil_Type_24                          int64\nSoil_Type_25                          int64\nSoil_Type_26                          int64\nSoil_Type_27                          int64\nSoil_Type_28                          int64\nSoil_Type_29                          int64\nSoil_Type_30                          int64\nSoil_Type_31                          int64\nSoil_Type_32                          int64\nSoil_Type_33                          int64\nSoil_Type_34                          int64\nSoil_Type_35                          int64\nSoil_Type_36                          int64\nSoil_Type_37                          int64\nSoil_Type_38                          int64\nSoil_Type_39                          int64\nSoil_Type_40                          int64\nCover_Type                            int64\ndtype: object"
     },
     "execution_count": 79,
     "metadata": {},
     "output_type": "execute_result"
    }
   ],
   "source": [
    "data.dtypes"
   ]
  },
  {
   "cell_type": "code",
   "execution_count": 44,
   "metadata": {},
   "outputs": [],
   "source": [
    "#Quais são as minhas features? (covtype.info)\n",
    "\n",
    "#Elevation                               Elevation in meters\n",
    "#Aspect                                  Aspect in degrees azimuth\n",
    "#Slope                                   Slope in degrees\n",
    "#Horizontal_Distance_To_Hydrology        Horz Dist to nearest surface water features\n",
    "#Vertical_Distance_To_Hydrology          Vert Dist to nearest surface water features\n",
    "#Horizontal_Distance_To_Roadways         Horz Dist to nearest roadway\n",
    "#Hillshade_9am                           Hillshade index at 9am, summer solstice\n",
    "#Hillshade_Noon                          Hillshade index at noon, summer soltice\n",
    "#Hillshade_3pm                           Hillshade index at 3pm, summer solstice\n",
    "#Horizontal_Distance_To_Fire_Points      Horz Dist to nearest wildfire ignition points\n",
    "#Wilderness_Area (4 binary columns)      Wilderness area designation\n",
    "#Soil_Type (40 binary columns)           Soil Type designation\n",
    "#Cover_Type (7 types)                    Forest Cover Type designation"
   ]
  },
  {
   "cell_type": "code",
   "execution_count": 45,
   "metadata": {},
   "outputs": [],
   "source": [
    "#Quais são minhas classes? (covtype.info)\n",
    "#classe                     qtde registros\n",
    "#Spruce-Fir:                211840 \n",
    "#Lodgepole Pine:            283301 \n",
    "#Ponderosa Pine:             35754 \n",
    "#Cottonwood/Willow:           2747 \n",
    "#Aspen:                       9493 \n",
    "#Douglas-fir:                17367 \n",
    "#Krummholz:                  20510   "
   ]
  },
  {
   "cell_type": "code",
   "execution_count": 80,
   "metadata": {},
   "outputs": [
    {
     "data": {
      "text/plain": "Cover_Type\n1    211840\n2    283301\n3     35754\n4      2747\n5      9493\n6     17367\n7     20510\ndtype: int64"
     },
     "execution_count": 80,
     "metadata": {},
     "output_type": "execute_result"
    }
   ],
   "source": [
    "#Como estão distribuidas minhas classes?\n",
    "data.groupby('Cover_Type').size()"
   ]
  },
  {
   "cell_type": "code",
   "execution_count": 81,
   "metadata": {},
   "outputs": [
    {
     "data": {
      "text/html": "<div>\n<style scoped>\n    .dataframe tbody tr th:only-of-type {\n        vertical-align: middle;\n    }\n\n    .dataframe tbody tr th {\n        vertical-align: top;\n    }\n\n    .dataframe thead th {\n        text-align: right;\n    }\n</style>\n<table border=\"1\" class=\"dataframe\">\n  <thead>\n    <tr style=\"text-align: right;\">\n      <th></th>\n      <th>Elevation</th>\n      <th>Aspect</th>\n      <th>slope</th>\n      <th>Horizontal_Distance_To_Hydrology</th>\n      <th>Vertical_Distance_To_Hydrology</th>\n      <th>Horizontal_Distance_To_Roadways</th>\n      <th>Hillshade_9am</th>\n      <th>Hillshade_Noon</th>\n      <th>Hillshade_3pm</th>\n      <th>Horizontal_Distance_To_Fire_Points</th>\n      <th>Wilderness_Area_1</th>\n      <th>Wilderness_Area_2</th>\n      <th>Wilderness_Area_3</th>\n      <th>Wilderness_Area_4</th>\n      <th>Soil_Type_1</th>\n      <th>Soil_Type_2</th>\n      <th>Soil_Type_3</th>\n      <th>Soil_Type_4</th>\n      <th>Soil_Type_5</th>\n      <th>Soil_Type_6</th>\n      <th>Soil_Type_7</th>\n      <th>Soil_Type_8</th>\n      <th>Soil_Type_9</th>\n      <th>Soil_Type_10</th>\n      <th>Soil_Type_11</th>\n      <th>Soil_Type_12</th>\n      <th>Soil_Type_13</th>\n      <th>Soil_Type_14</th>\n      <th>Soil_Type_15</th>\n      <th>Soil_Type_16</th>\n      <th>Soil_Type_17</th>\n      <th>Soil_Type_18</th>\n      <th>Soil_Type_1.1</th>\n      <th>Soil_Type_20</th>\n      <th>Soil_Type_21</th>\n      <th>Soil_Type_22</th>\n      <th>Soil_Type_23</th>\n      <th>Soil_Type_24</th>\n      <th>Soil_Type_25</th>\n      <th>Soil_Type_26</th>\n      <th>Soil_Type_27</th>\n      <th>Soil_Type_28</th>\n      <th>Soil_Type_29</th>\n      <th>Soil_Type_30</th>\n      <th>Soil_Type_31</th>\n      <th>Soil_Type_32</th>\n      <th>Soil_Type_33</th>\n      <th>Soil_Type_34</th>\n      <th>Soil_Type_35</th>\n      <th>Soil_Type_36</th>\n      <th>Soil_Type_37</th>\n      <th>Soil_Type_38</th>\n      <th>Soil_Type_39</th>\n      <th>Soil_Type_40</th>\n      <th>Cover_Type</th>\n    </tr>\n  </thead>\n  <tbody>\n    <tr>\n      <th>count</th>\n      <td>581012.000000</td>\n      <td>581012.000000</td>\n      <td>581012.000000</td>\n      <td>581012.000000</td>\n      <td>581012.000000</td>\n      <td>581012.000000</td>\n      <td>581012.000000</td>\n      <td>581012.000000</td>\n      <td>581012.000000</td>\n      <td>581012.000000</td>\n      <td>581012.000000</td>\n      <td>581012.000000</td>\n      <td>581012.000000</td>\n      <td>581012.000000</td>\n      <td>581012.000000</td>\n      <td>581012.000000</td>\n      <td>581012.000000</td>\n      <td>581012.000000</td>\n      <td>581012.000000</td>\n      <td>581012.000000</td>\n      <td>581012.000000</td>\n      <td>581012.000000</td>\n      <td>581012.000000</td>\n      <td>581012.000000</td>\n      <td>581012.000000</td>\n      <td>581012.000000</td>\n      <td>581012.000000</td>\n      <td>581012.000000</td>\n      <td>581012.000000</td>\n      <td>581012.000000</td>\n      <td>581012.000000</td>\n      <td>581012.000000</td>\n      <td>581012.000000</td>\n      <td>581012.000000</td>\n      <td>581012.000000</td>\n      <td>581012.000000</td>\n      <td>581012.000000</td>\n      <td>581012.000000</td>\n      <td>581012.000000</td>\n      <td>581012.000000</td>\n      <td>581012.000000</td>\n      <td>581012.000000</td>\n      <td>581012.000000</td>\n      <td>581012.000000</td>\n      <td>581012.000000</td>\n      <td>581012.000000</td>\n      <td>581012.000000</td>\n      <td>581012.000000</td>\n      <td>581012.000000</td>\n      <td>581012.000000</td>\n      <td>581012.000000</td>\n      <td>581012.000000</td>\n      <td>581012.000000</td>\n      <td>581012.000000</td>\n      <td>581012.000000</td>\n    </tr>\n    <tr>\n      <th>mean</th>\n      <td>2959.365301</td>\n      <td>155.656807</td>\n      <td>14.103704</td>\n      <td>269.428217</td>\n      <td>46.418855</td>\n      <td>2350.146611</td>\n      <td>212.146049</td>\n      <td>223.318716</td>\n      <td>142.528263</td>\n      <td>1980.291226</td>\n      <td>0.448865</td>\n      <td>0.051434</td>\n      <td>0.436074</td>\n      <td>0.063627</td>\n      <td>0.005217</td>\n      <td>0.012952</td>\n      <td>0.008301</td>\n      <td>0.021335</td>\n      <td>0.002749</td>\n      <td>0.011316</td>\n      <td>0.000181</td>\n      <td>0.000308</td>\n      <td>0.001974</td>\n      <td>0.056168</td>\n      <td>0.021359</td>\n      <td>0.051584</td>\n      <td>0.030001</td>\n      <td>0.001031</td>\n      <td>0.000005</td>\n      <td>0.004897</td>\n      <td>0.005890</td>\n      <td>0.003268</td>\n      <td>0.006921</td>\n      <td>0.015936</td>\n      <td>0.001442</td>\n      <td>0.057439</td>\n      <td>0.099399</td>\n      <td>0.036622</td>\n      <td>0.000816</td>\n      <td>0.004456</td>\n      <td>0.001869</td>\n      <td>0.001628</td>\n      <td>0.198356</td>\n      <td>0.051927</td>\n      <td>0.044175</td>\n      <td>0.090392</td>\n      <td>0.077716</td>\n      <td>0.002773</td>\n      <td>0.003255</td>\n      <td>0.000205</td>\n      <td>0.000513</td>\n      <td>0.026803</td>\n      <td>0.023762</td>\n      <td>0.015060</td>\n      <td>2.051471</td>\n    </tr>\n    <tr>\n      <th>std</th>\n      <td>279.984734</td>\n      <td>111.913721</td>\n      <td>7.488242</td>\n      <td>212.549356</td>\n      <td>58.295232</td>\n      <td>1559.254870</td>\n      <td>26.769889</td>\n      <td>19.768697</td>\n      <td>38.274529</td>\n      <td>1324.195210</td>\n      <td>0.497379</td>\n      <td>0.220882</td>\n      <td>0.495897</td>\n      <td>0.244087</td>\n      <td>0.072039</td>\n      <td>0.113066</td>\n      <td>0.090731</td>\n      <td>0.144499</td>\n      <td>0.052356</td>\n      <td>0.105775</td>\n      <td>0.013442</td>\n      <td>0.017550</td>\n      <td>0.044387</td>\n      <td>0.230245</td>\n      <td>0.144579</td>\n      <td>0.221186</td>\n      <td>0.170590</td>\n      <td>0.032092</td>\n      <td>0.002272</td>\n      <td>0.069804</td>\n      <td>0.076518</td>\n      <td>0.057077</td>\n      <td>0.082902</td>\n      <td>0.125228</td>\n      <td>0.037950</td>\n      <td>0.232681</td>\n      <td>0.299197</td>\n      <td>0.187833</td>\n      <td>0.028551</td>\n      <td>0.066605</td>\n      <td>0.043193</td>\n      <td>0.040318</td>\n      <td>0.398762</td>\n      <td>0.221879</td>\n      <td>0.205483</td>\n      <td>0.286743</td>\n      <td>0.267725</td>\n      <td>0.052584</td>\n      <td>0.056957</td>\n      <td>0.014310</td>\n      <td>0.022641</td>\n      <td>0.161508</td>\n      <td>0.152307</td>\n      <td>0.121791</td>\n      <td>1.396504</td>\n    </tr>\n    <tr>\n      <th>min</th>\n      <td>1859.000000</td>\n      <td>0.000000</td>\n      <td>0.000000</td>\n      <td>0.000000</td>\n      <td>-173.000000</td>\n      <td>0.000000</td>\n      <td>0.000000</td>\n      <td>0.000000</td>\n      <td>0.000000</td>\n      <td>0.000000</td>\n      <td>0.000000</td>\n      <td>0.000000</td>\n      <td>0.000000</td>\n      <td>0.000000</td>\n      <td>0.000000</td>\n      <td>0.000000</td>\n      <td>0.000000</td>\n      <td>0.000000</td>\n      <td>0.000000</td>\n      <td>0.000000</td>\n      <td>0.000000</td>\n      <td>0.000000</td>\n      <td>0.000000</td>\n      <td>0.000000</td>\n      <td>0.000000</td>\n      <td>0.000000</td>\n      <td>0.000000</td>\n      <td>0.000000</td>\n      <td>0.000000</td>\n      <td>0.000000</td>\n      <td>0.000000</td>\n      <td>0.000000</td>\n      <td>0.000000</td>\n      <td>0.000000</td>\n      <td>0.000000</td>\n      <td>0.000000</td>\n      <td>0.000000</td>\n      <td>0.000000</td>\n      <td>0.000000</td>\n      <td>0.000000</td>\n      <td>0.000000</td>\n      <td>0.000000</td>\n      <td>0.000000</td>\n      <td>0.000000</td>\n      <td>0.000000</td>\n      <td>0.000000</td>\n      <td>0.000000</td>\n      <td>0.000000</td>\n      <td>0.000000</td>\n      <td>0.000000</td>\n      <td>0.000000</td>\n      <td>0.000000</td>\n      <td>0.000000</td>\n      <td>0.000000</td>\n      <td>1.000000</td>\n    </tr>\n    <tr>\n      <th>25%</th>\n      <td>2809.000000</td>\n      <td>58.000000</td>\n      <td>9.000000</td>\n      <td>108.000000</td>\n      <td>7.000000</td>\n      <td>1106.000000</td>\n      <td>198.000000</td>\n      <td>213.000000</td>\n      <td>119.000000</td>\n      <td>1024.000000</td>\n      <td>0.000000</td>\n      <td>0.000000</td>\n      <td>0.000000</td>\n      <td>0.000000</td>\n      <td>0.000000</td>\n      <td>0.000000</td>\n      <td>0.000000</td>\n      <td>0.000000</td>\n      <td>0.000000</td>\n      <td>0.000000</td>\n      <td>0.000000</td>\n      <td>0.000000</td>\n      <td>0.000000</td>\n      <td>0.000000</td>\n      <td>0.000000</td>\n      <td>0.000000</td>\n      <td>0.000000</td>\n      <td>0.000000</td>\n      <td>0.000000</td>\n      <td>0.000000</td>\n      <td>0.000000</td>\n      <td>0.000000</td>\n      <td>0.000000</td>\n      <td>0.000000</td>\n      <td>0.000000</td>\n      <td>0.000000</td>\n      <td>0.000000</td>\n      <td>0.000000</td>\n      <td>0.000000</td>\n      <td>0.000000</td>\n      <td>0.000000</td>\n      <td>0.000000</td>\n      <td>0.000000</td>\n      <td>0.000000</td>\n      <td>0.000000</td>\n      <td>0.000000</td>\n      <td>0.000000</td>\n      <td>0.000000</td>\n      <td>0.000000</td>\n      <td>0.000000</td>\n      <td>0.000000</td>\n      <td>0.000000</td>\n      <td>0.000000</td>\n      <td>0.000000</td>\n      <td>1.000000</td>\n    </tr>\n    <tr>\n      <th>50%</th>\n      <td>2996.000000</td>\n      <td>127.000000</td>\n      <td>13.000000</td>\n      <td>218.000000</td>\n      <td>30.000000</td>\n      <td>1997.000000</td>\n      <td>218.000000</td>\n      <td>226.000000</td>\n      <td>143.000000</td>\n      <td>1710.000000</td>\n      <td>0.000000</td>\n      <td>0.000000</td>\n      <td>0.000000</td>\n      <td>0.000000</td>\n      <td>0.000000</td>\n      <td>0.000000</td>\n      <td>0.000000</td>\n      <td>0.000000</td>\n      <td>0.000000</td>\n      <td>0.000000</td>\n      <td>0.000000</td>\n      <td>0.000000</td>\n      <td>0.000000</td>\n      <td>0.000000</td>\n      <td>0.000000</td>\n      <td>0.000000</td>\n      <td>0.000000</td>\n      <td>0.000000</td>\n      <td>0.000000</td>\n      <td>0.000000</td>\n      <td>0.000000</td>\n      <td>0.000000</td>\n      <td>0.000000</td>\n      <td>0.000000</td>\n      <td>0.000000</td>\n      <td>0.000000</td>\n      <td>0.000000</td>\n      <td>0.000000</td>\n      <td>0.000000</td>\n      <td>0.000000</td>\n      <td>0.000000</td>\n      <td>0.000000</td>\n      <td>0.000000</td>\n      <td>0.000000</td>\n      <td>0.000000</td>\n      <td>0.000000</td>\n      <td>0.000000</td>\n      <td>0.000000</td>\n      <td>0.000000</td>\n      <td>0.000000</td>\n      <td>0.000000</td>\n      <td>0.000000</td>\n      <td>0.000000</td>\n      <td>0.000000</td>\n      <td>2.000000</td>\n    </tr>\n    <tr>\n      <th>75%</th>\n      <td>3163.000000</td>\n      <td>260.000000</td>\n      <td>18.000000</td>\n      <td>384.000000</td>\n      <td>69.000000</td>\n      <td>3328.000000</td>\n      <td>231.000000</td>\n      <td>237.000000</td>\n      <td>168.000000</td>\n      <td>2550.000000</td>\n      <td>1.000000</td>\n      <td>0.000000</td>\n      <td>1.000000</td>\n      <td>0.000000</td>\n      <td>0.000000</td>\n      <td>0.000000</td>\n      <td>0.000000</td>\n      <td>0.000000</td>\n      <td>0.000000</td>\n      <td>0.000000</td>\n      <td>0.000000</td>\n      <td>0.000000</td>\n      <td>0.000000</td>\n      <td>0.000000</td>\n      <td>0.000000</td>\n      <td>0.000000</td>\n      <td>0.000000</td>\n      <td>0.000000</td>\n      <td>0.000000</td>\n      <td>0.000000</td>\n      <td>0.000000</td>\n      <td>0.000000</td>\n      <td>0.000000</td>\n      <td>0.000000</td>\n      <td>0.000000</td>\n      <td>0.000000</td>\n      <td>0.000000</td>\n      <td>0.000000</td>\n      <td>0.000000</td>\n      <td>0.000000</td>\n      <td>0.000000</td>\n      <td>0.000000</td>\n      <td>0.000000</td>\n      <td>0.000000</td>\n      <td>0.000000</td>\n      <td>0.000000</td>\n      <td>0.000000</td>\n      <td>0.000000</td>\n      <td>0.000000</td>\n      <td>0.000000</td>\n      <td>0.000000</td>\n      <td>0.000000</td>\n      <td>0.000000</td>\n      <td>0.000000</td>\n      <td>2.000000</td>\n    </tr>\n    <tr>\n      <th>max</th>\n      <td>3858.000000</td>\n      <td>360.000000</td>\n      <td>66.000000</td>\n      <td>1397.000000</td>\n      <td>601.000000</td>\n      <td>7117.000000</td>\n      <td>254.000000</td>\n      <td>254.000000</td>\n      <td>254.000000</td>\n      <td>7173.000000</td>\n      <td>1.000000</td>\n      <td>1.000000</td>\n      <td>1.000000</td>\n      <td>1.000000</td>\n      <td>1.000000</td>\n      <td>1.000000</td>\n      <td>1.000000</td>\n      <td>1.000000</td>\n      <td>1.000000</td>\n      <td>1.000000</td>\n      <td>1.000000</td>\n      <td>1.000000</td>\n      <td>1.000000</td>\n      <td>1.000000</td>\n      <td>1.000000</td>\n      <td>1.000000</td>\n      <td>1.000000</td>\n      <td>1.000000</td>\n      <td>1.000000</td>\n      <td>1.000000</td>\n      <td>1.000000</td>\n      <td>1.000000</td>\n      <td>1.000000</td>\n      <td>1.000000</td>\n      <td>1.000000</td>\n      <td>1.000000</td>\n      <td>1.000000</td>\n      <td>1.000000</td>\n      <td>1.000000</td>\n      <td>1.000000</td>\n      <td>1.000000</td>\n      <td>1.000000</td>\n      <td>1.000000</td>\n      <td>1.000000</td>\n      <td>1.000000</td>\n      <td>1.000000</td>\n      <td>1.000000</td>\n      <td>1.000000</td>\n      <td>1.000000</td>\n      <td>1.000000</td>\n      <td>1.000000</td>\n      <td>1.000000</td>\n      <td>1.000000</td>\n      <td>1.000000</td>\n      <td>7.000000</td>\n    </tr>\n  </tbody>\n</table>\n</div>",
      "text/plain": "           Elevation         Aspect          slope  \\\ncount  581012.000000  581012.000000  581012.000000   \nmean     2959.365301     155.656807      14.103704   \nstd       279.984734     111.913721       7.488242   \nmin      1859.000000       0.000000       0.000000   \n25%      2809.000000      58.000000       9.000000   \n50%      2996.000000     127.000000      13.000000   \n75%      3163.000000     260.000000      18.000000   \nmax      3858.000000     360.000000      66.000000   \n\n       Horizontal_Distance_To_Hydrology  Vertical_Distance_To_Hydrology  \\\ncount                     581012.000000                   581012.000000   \nmean                         269.428217                       46.418855   \nstd                          212.549356                       58.295232   \nmin                            0.000000                     -173.000000   \n25%                          108.000000                        7.000000   \n50%                          218.000000                       30.000000   \n75%                          384.000000                       69.000000   \nmax                         1397.000000                      601.000000   \n\n       Horizontal_Distance_To_Roadways  Hillshade_9am  Hillshade_Noon  \\\ncount                    581012.000000  581012.000000   581012.000000   \nmean                       2350.146611     212.146049      223.318716   \nstd                        1559.254870      26.769889       19.768697   \nmin                           0.000000       0.000000        0.000000   \n25%                        1106.000000     198.000000      213.000000   \n50%                        1997.000000     218.000000      226.000000   \n75%                        3328.000000     231.000000      237.000000   \nmax                        7117.000000     254.000000      254.000000   \n\n       Hillshade_3pm  Horizontal_Distance_To_Fire_Points  Wilderness_Area_1  \\\ncount  581012.000000                       581012.000000      581012.000000   \nmean      142.528263                         1980.291226           0.448865   \nstd        38.274529                         1324.195210           0.497379   \nmin         0.000000                            0.000000           0.000000   \n25%       119.000000                         1024.000000           0.000000   \n50%       143.000000                         1710.000000           0.000000   \n75%       168.000000                         2550.000000           1.000000   \nmax       254.000000                         7173.000000           1.000000   \n\n       Wilderness_Area_2  Wilderness_Area_3  Wilderness_Area_4    Soil_Type_1  \\\ncount      581012.000000      581012.000000      581012.000000  581012.000000   \nmean            0.051434           0.436074           0.063627       0.005217   \nstd             0.220882           0.495897           0.244087       0.072039   \nmin             0.000000           0.000000           0.000000       0.000000   \n25%             0.000000           0.000000           0.000000       0.000000   \n50%             0.000000           0.000000           0.000000       0.000000   \n75%             0.000000           1.000000           0.000000       0.000000   \nmax             1.000000           1.000000           1.000000       1.000000   \n\n         Soil_Type_2    Soil_Type_3    Soil_Type_4    Soil_Type_5  \\\ncount  581012.000000  581012.000000  581012.000000  581012.000000   \nmean        0.012952       0.008301       0.021335       0.002749   \nstd         0.113066       0.090731       0.144499       0.052356   \nmin         0.000000       0.000000       0.000000       0.000000   \n25%         0.000000       0.000000       0.000000       0.000000   \n50%         0.000000       0.000000       0.000000       0.000000   \n75%         0.000000       0.000000       0.000000       0.000000   \nmax         1.000000       1.000000       1.000000       1.000000   \n\n         Soil_Type_6    Soil_Type_7    Soil_Type_8    Soil_Type_9  \\\ncount  581012.000000  581012.000000  581012.000000  581012.000000   \nmean        0.011316       0.000181       0.000308       0.001974   \nstd         0.105775       0.013442       0.017550       0.044387   \nmin         0.000000       0.000000       0.000000       0.000000   \n25%         0.000000       0.000000       0.000000       0.000000   \n50%         0.000000       0.000000       0.000000       0.000000   \n75%         0.000000       0.000000       0.000000       0.000000   \nmax         1.000000       1.000000       1.000000       1.000000   \n\n        Soil_Type_10   Soil_Type_11   Soil_Type_12   Soil_Type_13  \\\ncount  581012.000000  581012.000000  581012.000000  581012.000000   \nmean        0.056168       0.021359       0.051584       0.030001   \nstd         0.230245       0.144579       0.221186       0.170590   \nmin         0.000000       0.000000       0.000000       0.000000   \n25%         0.000000       0.000000       0.000000       0.000000   \n50%         0.000000       0.000000       0.000000       0.000000   \n75%         0.000000       0.000000       0.000000       0.000000   \nmax         1.000000       1.000000       1.000000       1.000000   \n\n        Soil_Type_14   Soil_Type_15   Soil_Type_16   Soil_Type_17  \\\ncount  581012.000000  581012.000000  581012.000000  581012.000000   \nmean        0.001031       0.000005       0.004897       0.005890   \nstd         0.032092       0.002272       0.069804       0.076518   \nmin         0.000000       0.000000       0.000000       0.000000   \n25%         0.000000       0.000000       0.000000       0.000000   \n50%         0.000000       0.000000       0.000000       0.000000   \n75%         0.000000       0.000000       0.000000       0.000000   \nmax         1.000000       1.000000       1.000000       1.000000   \n\n        Soil_Type_18  Soil_Type_1.1   Soil_Type_20   Soil_Type_21  \\\ncount  581012.000000  581012.000000  581012.000000  581012.000000   \nmean        0.003268       0.006921       0.015936       0.001442   \nstd         0.057077       0.082902       0.125228       0.037950   \nmin         0.000000       0.000000       0.000000       0.000000   \n25%         0.000000       0.000000       0.000000       0.000000   \n50%         0.000000       0.000000       0.000000       0.000000   \n75%         0.000000       0.000000       0.000000       0.000000   \nmax         1.000000       1.000000       1.000000       1.000000   \n\n        Soil_Type_22   Soil_Type_23   Soil_Type_24   Soil_Type_25  \\\ncount  581012.000000  581012.000000  581012.000000  581012.000000   \nmean        0.057439       0.099399       0.036622       0.000816   \nstd         0.232681       0.299197       0.187833       0.028551   \nmin         0.000000       0.000000       0.000000       0.000000   \n25%         0.000000       0.000000       0.000000       0.000000   \n50%         0.000000       0.000000       0.000000       0.000000   \n75%         0.000000       0.000000       0.000000       0.000000   \nmax         1.000000       1.000000       1.000000       1.000000   \n\n        Soil_Type_26   Soil_Type_27   Soil_Type_28   Soil_Type_29  \\\ncount  581012.000000  581012.000000  581012.000000  581012.000000   \nmean        0.004456       0.001869       0.001628       0.198356   \nstd         0.066605       0.043193       0.040318       0.398762   \nmin         0.000000       0.000000       0.000000       0.000000   \n25%         0.000000       0.000000       0.000000       0.000000   \n50%         0.000000       0.000000       0.000000       0.000000   \n75%         0.000000       0.000000       0.000000       0.000000   \nmax         1.000000       1.000000       1.000000       1.000000   \n\n        Soil_Type_30   Soil_Type_31   Soil_Type_32   Soil_Type_33  \\\ncount  581012.000000  581012.000000  581012.000000  581012.000000   \nmean        0.051927       0.044175       0.090392       0.077716   \nstd         0.221879       0.205483       0.286743       0.267725   \nmin         0.000000       0.000000       0.000000       0.000000   \n25%         0.000000       0.000000       0.000000       0.000000   \n50%         0.000000       0.000000       0.000000       0.000000   \n75%         0.000000       0.000000       0.000000       0.000000   \nmax         1.000000       1.000000       1.000000       1.000000   \n\n        Soil_Type_34   Soil_Type_35   Soil_Type_36   Soil_Type_37  \\\ncount  581012.000000  581012.000000  581012.000000  581012.000000   \nmean        0.002773       0.003255       0.000205       0.000513   \nstd         0.052584       0.056957       0.014310       0.022641   \nmin         0.000000       0.000000       0.000000       0.000000   \n25%         0.000000       0.000000       0.000000       0.000000   \n50%         0.000000       0.000000       0.000000       0.000000   \n75%         0.000000       0.000000       0.000000       0.000000   \nmax         1.000000       1.000000       1.000000       1.000000   \n\n        Soil_Type_38   Soil_Type_39   Soil_Type_40     Cover_Type  \ncount  581012.000000  581012.000000  581012.000000  581012.000000  \nmean        0.026803       0.023762       0.015060       2.051471  \nstd         0.161508       0.152307       0.121791       1.396504  \nmin         0.000000       0.000000       0.000000       1.000000  \n25%         0.000000       0.000000       0.000000       1.000000  \n50%         0.000000       0.000000       0.000000       2.000000  \n75%         0.000000       0.000000       0.000000       2.000000  \nmax         1.000000       1.000000       1.000000       7.000000  "
     },
     "execution_count": 81,
     "metadata": {},
     "output_type": "execute_result"
    }
   ],
   "source": [
    "#Checagem se os valores estão dentro de um limite permitido ou razoável.\n",
    "data.describe()"
   ]
  },
  {
   "cell_type": "code",
   "execution_count": 61,
   "metadata": {},
   "outputs": [
    {
     "data": {
      "text/plain": "Elevation                             0\nAspect                                0\nslope                                 0\nHorizontal_Distance_To_Hydrology      0\nVertical_Distance_To_Hydrology        0\nHorizontal_Distance_To_Roadways       0\nHillshade_9am                         0\nHillshade_Noon                        0\nHillshade_3pm                         0\nHorizontal_Distance_To_Fire_Points    0\nWilderness_Area_1                     0\nWilderness_Area_2                     0\nWilderness_Area_3                     0\nWilderness_Area_4                     0\nSoil_Type_1                           0\nSoil_Type_2                           0\nSoil_Type_3                           0\nSoil_Type_4                           0\nSoil_Type_5                           0\nSoil_Type_6                           0\nSoil_Type_7                           0\nSoil_Type_8                           0\nSoil_Type_9                           0\nSoil_Type_10                          0\nSoil_Type_11                          0\nSoil_Type_12                          0\nSoil_Type_13                          0\nSoil_Type_14                          0\nSoil_Type_15                          0\nSoil_Type_16                          0\nSoil_Type_17                          0\nSoil_Type_18                          0\nSoil_Type_1.1                         0\nSoil_Type_20                          0\nSoil_Type_21                          0\nSoil_Type_22                          0\nSoil_Type_23                          0\nSoil_Type_24                          0\nSoil_Type_25                          0\nSoil_Type_26                          0\nSoil_Type_27                          0\nSoil_Type_28                          0\nSoil_Type_29                          0\nSoil_Type_30                          0\nSoil_Type_31                          0\nSoil_Type_32                          0\nSoil_Type_33                          0\nSoil_Type_34                          0\nSoil_Type_35                          0\nSoil_Type_36                          0\nSoil_Type_37                          0\nSoil_Type_38                          0\nSoil_Type_39                          0\nSoil_Type_40                          0\nCover_Type                            0\ndtype: int64"
     },
     "execution_count": 61,
     "metadata": {},
     "output_type": "execute_result"
    }
   ],
   "source": [
    "#Tratamento de valores ausentes por eliminação ou substituição.\n",
    "data.isnull().sum()\n",
    "#sem valores ausentes"
   ]
  },
  {
   "cell_type": "markdown",
   "metadata": {},
   "outputs": [],
   "source": [
    "### 3) **(80%)** Nos blocos seguintes implemente seus classificadores (serão implementados 2 métodos diferentes)."
   ]
  },
  {
   "cell_type": "markdown",
   "metadata": {},
   "outputs": [],
   "source": [
    "#### 3.1) Qual método escolhido?"
   ]
  },
  {
   "cell_type": "markdown",
   "execution_count": 8,
   "metadata": {},
   "outputs": [],
   "source": [
    "Naive Bayes\n",
    "\n",
    "O algoritmo “Naive Bayes” é um classificador probabilístico baseado no “Teorema de Bayes”, o qual foi criado por Thomas Bayes (1701 - 1761) "
   ]
  },
  {
   "cell_type": "markdown",
   "metadata": {},
   "outputs": [],
   "source": [
    "#### 3.2) **(10%)** Baseline - Implemente seu classificador da forma mais simples possível para esse ser seu baseline"
   ]
  },
  {
   "cell_type": "code",
   "execution_count": 96,
   "metadata": {},
   "outputs": [
    {
     "name": "stdout",
     "output_type": "stream",
     "text": "377657 amostras de treino.\n203355 amostras de teste.\n2    184038\n1    137751\n3     23309\n7     13202\n6     11316\n5      6249\n4      1792\nName: Cover_Type, dtype: int64\n"
    }
   ],
   "source": [
    "# Implementação. Use mais blocos se achar que ficará mais organizado.\n",
    "import sklearn\n",
    "from sklearn.model_selection import train_test_split\n",
    "from sklearn.metrics import accuracy_score\n",
    "from sklearn.naive_bayes import GaussianNB\n",
    "from sklearn.naive_bayes import BernoulliNB\n",
    "dataNB = data\n",
    "y  = dataNB['Cover_Type']\n",
    "dataNB = dataNB.drop(['Cover_Type'],axis=1)\n",
    "\n",
    "X_train, X_test, y_train, y_test = train_test_split(dataNB, y, test_size = 0.35)\n",
    "\n",
    "# listagem dos registros de treino e teste\n",
    "print(\"{} amostras de treino.\".format(X_train.shape[0]))\n",
    "print(\"{} amostras de teste.\".format(X_test.shape[0]))\n",
    "print(y_train.value_counts())\n"
   ]
  },
  {
   "cell_type": "code",
   "execution_count": 83,
   "metadata": {},
   "outputs": [
    {
     "name": "stdout",
     "output_type": "stream",
     "text": "Acurácia de: 45.70480194733348% com GaussianNB\n"
    }
   ],
   "source": [
    "clfNB = GaussianNB()\n",
    "clfNB.fit(X_train, y_train)\n",
    "\n",
    "y_pred = classificador.predict(X_test)\n",
    "ACC = accuracy_score(y_pred, y_test) * 100\n",
    "\n",
    "print(\"Acurácia de: \" + str(ACC) + \"% com GaussianNB\")"
   ]
  },
  {
   "cell_type": "code",
   "execution_count": 84,
   "metadata": {},
   "outputs": [
    {
     "name": "stdout",
     "output_type": "stream",
     "text": "Acuracia de 62.78134297165057% com BernoulliNB\n"
    }
   ],
   "source": [
    "#Testes com Algoritmo BernoulliNB   \n",
    "ClfBNB = BernoulliNB()\n",
    "ClfBNB.fit(X_train, y_train)\n",
    "y_prd = ClfBNB.predict(X_test)\n",
    "ACC = accuracy_score(y_prd, y_test) * 100\n",
    "print(\"Acuracia de \" + str(ACC) + \"% com BernoulliNB\")"
   ]
  },
  {
   "cell_type": "markdown",
   "metadata": {},
   "source": [
    "Algoritmo BernoulliNB está com acurácia maior do que o GaussianNB... \n",
    "preciso avaliar melhor!"
   ]
  },
  {
   "cell_type": "code",
   "execution_count": 85,
   "metadata": {},
   "outputs": [
    {
     "name": "stdout",
     "output_type": "stream",
     "text": "(581012, 33)\n"
    }
   ],
   "source": [
    "\n",
    "#eliminar features que estão com valores menor que 0.05. por padrão o VarianceThreshold elimina valores = 0.\n",
    "from sklearn.feature_selection import VarianceThreshold\n",
    "selector = VarianceThreshold(0.05) #Manter todos os dados com variação maior do que 0.05!\n",
    "reduce_data = sel.fit_transform(dataNB)\n",
    "print(reduce_data.shape) #Registros / Qtde de features..."
   ]
  },
  {
   "cell_type": "code",
   "execution_count": 90,
   "metadata": {},
   "outputs": [
    {
     "name": "stdout",
     "output_type": "stream",
     "text": "Acuracia apos ajustes: 0.6202404661798333%\n"
    }
   ],
   "source": [
    "X_train, X_test, y_train, y_test = train_test_split(reduce_data,y,test_size=0.35)\n",
    "\n",
    "ClfBNB.fit(X_train, y_train)\n",
    "\n",
    "y_pred = ClfBNB.predict(X_test)\n",
    "ACC = accuracy_score(y_pred, y_test) * 100\n",
    "print(\"Acuracia apos ajustes: \" + str(ACC) + \"%\" )\n",
    "#diminuiu acurácia.... vamos avaliar"
   ]
  },
  {
   "cell_type": "code",
   "execution_count": 93,
   "metadata": {},
   "outputs": [
    {
     "name": "stdout",
     "output_type": "stream",
     "text": "(581012, 33)\n"
    }
   ],
   "source": [
    "# novos testes para avaliar acuracia\n",
    "from sklearn.feature_selection import VarianceThreshold\n",
    "selector = VarianceThreshold(0.01) #Manter todos os dados com variação maior do que 0.01!\n",
    "reduce_data = sel.fit_transform(dataNB)\n",
    "print(reduce_data.shape) #Quantidade de faatures aumentou em relacao ao anterior\n",
    "#Melhor ou pior??"
   ]
  },
  {
   "cell_type": "code",
   "execution_count": 94,
   "metadata": {},
   "outputs": [
    {
     "name": "stdout",
     "output_type": "stream",
     "text": "Acuracia apos ajustes: 0.6264561972904527\n"
    }
   ],
   "source": [
    "X_train, X_test, y_train, y_test = train_test_split(df_variance_threshold,y,test_size=0.35)\n",
    "\n",
    "ClfBNB.fit(X_train, y_train)\n",
    "\n",
    "y_pred = ClfBNB.predict(X_test)\n",
    "acuracia = accuracy_score(y_pred, y_test)\n",
    "print(\"Acuracia apos ajustes: \" + str(acuracia))\n"
   ]
  },
  {
   "cell_type": "code",
   "execution_count": null,
   "metadata": {},
   "outputs": [],
   "source": [
    "#Mesmo com tunning acurácia ficou dentro dos 62%..."
   ]
  },
  {
   "cell_type": "markdown",
   "execution_count": null,
   "metadata": {},
   "outputs": [],
   "source": [
    "#### 3.4) **(10%)** Tunning - Agora que temos um resultado promissor, vamos tentar melhorar o resultado alterando um ou mais hiper-parametro. Compare os resultados."
   ]
  },
  {
   "cell_type": "markdown",
   "execution_count": null,
   "metadata": {},
   "outputs": [],
   "source": [
    "#### 3.5) Qual método escolhido?"
   ]
  },
  {
   "cell_type": "markdown",
   "execution_count": null,
   "metadata": {},
   "outputs": [],
   "source": [
    "Indique o método escolhido\n",
    "\n",
    "Random Forest\n",
    "\n",
    "https://scikit-learn.org/stable/modules/generated/sklearn.ensemble.RandomForestClassifier.html"
   ]
  },
  {
   "cell_type": "markdown",
   "execution_count": null,
   "metadata": {},
   "outputs": [],
   "source": [
    "#### 3.6) **(10%)** Baseline - Implemente seu classificador da forma mais simples possível para esse ser seu baseline"
   ]
  },
  {
   "cell_type": "code",
   "execution_count": 105,
   "metadata": {},
   "outputs": [
    {
     "name": "stdout",
     "output_type": "stream",
     "text": "Acurácia de : 84.82536258490913%\n"
    }
   ],
   "source": [
    "from sklearn.ensemble import RandomForestClassifier\n",
    "dataRFC = data\n",
    "y  = dataRFC['Cover_Type']\n",
    "dataNB = dataRFC.drop(['Cover_Type'],axis=1)\n",
    "X_train, X_test, y_train, y_test = train_test_split(dataRFC, y,  test_size=0.35)\n",
    "#y = cover_type\n",
    "\n",
    "classifierRandomForest = RandomForestClassifier(max_depth=2, random_state=0)\n",
    "classifierRandomForest.fit(X_train, y_train)\n",
    "\n",
    "\n",
    "y_pred = classifierRandomForest.predict(X_test)\n",
    "\n",
    "ACC = accuracy_score(y_pred, y_test) * 100\n",
    "\n",
    "print(\"Acurácia de : \" + str(ACC) + \"%\")"
   ]
  },
  {
   "cell_type": "markdown",
   "execution_count": null,
   "metadata": {},
   "outputs": [],
   "source": [
    "#### 3.7) **(20%)** Versão 1 - O que podemos fazer para melhorar nosso baseline? Aplique técnicas como redução de dimensionalidade, normalização ou outras. Compare os resultados."
   ]
  },
  {
   "cell_type": "markdown",
   "execution_count": null,
   "metadata": {},
   "outputs": [],
   "source": [
    "#### 3.8) **(10%)** Tunning - Agora que temos um resultado promissor, vamos tentar melhorar o resultado alterando um ou mais hiper-parametro. Compare os resultados."
   ]
  },
  {
   "cell_type": "code",
   "execution_count": null,
   "metadata": {},
   "outputs": [],
   "source": [
    "# Implementação. Use mais blocos se achar que ficará mais organizado."
   ]
  },
  {
   "cell_type": "markdown",
   "metadata": {},
   "outputs": [],
   "source": [
    "Algoritmo BernoulliNB teve um resultado promissor, porém a Random Forest obtém um resultado melhor!\n",
    " "
   ]
  },
  {
   "cell_type": "markdown",
   "metadata": {},
   "outputs": [],
   "source": []
  }
 ],
 "metadata": {
  "file_extension": ".py",
  "kernelspec": {
   "display_name": "Python 3",
   "language": "python",
   "name": "python3"
  },
  "language_info": {
   "codemirror_mode": {
    "name": "ipython",
    "version": 3
   },
   "file_extension": ".py",
   "mimetype": "text/x-python",
   "name": "python",
   "nbconvert_exporter": "python",
   "pygments_lexer": "ipython3",
   "version": "3.7.5-final"
  },
  "mimetype": "text/x-python",
  "name": "python",
  "npconvert_exporter": "python",
  "pygments_lexer": "ipython3",
  "version": 3
 },
 "nbformat": 4,
 "nbformat_minor": 2
}